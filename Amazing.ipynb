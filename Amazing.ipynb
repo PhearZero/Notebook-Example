# Best Notebook Ever
name = "Jim Bob"
print(name)
