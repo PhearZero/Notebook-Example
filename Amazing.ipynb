name = "Jim Bob"
print("We are going to print a name!")
print(name)

